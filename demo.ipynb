{
 "cells": [
  {
   "cell_type": "code",
   "execution_count": 5,
   "metadata": {},
   "outputs": [
    {
     "ename": "ImportError",
     "evalue": "cannot import name 'split' from 'model' (C:\\Users\\DELL\\Desktop\\projects\\ai-final-project\\model.py)",
     "output_type": "error",
     "traceback": [
      "\u001b[1;31m---------------------------------------------------------------------------\u001b[0m",
      "\u001b[1;31mImportError\u001b[0m                               Traceback (most recent call last)",
      "Cell \u001b[1;32mIn[5], line 1\u001b[0m\n\u001b[1;32m----> 1\u001b[0m \u001b[38;5;28;01mfrom\u001b[39;00m \u001b[38;5;21;01mmodel\u001b[39;00m \u001b[38;5;28;01mimport\u001b[39;00m backtracking, split\n\u001b[0;32m      2\u001b[0m \u001b[38;5;28;01mimport\u001b[39;00m \u001b[38;5;21;01mgradio\u001b[39;00m \u001b[38;5;28;01mas\u001b[39;00m \u001b[38;5;21;01mgr\u001b[39;00m\n\u001b[0;32m      4\u001b[0m \u001b[38;5;28;01mdef\u001b[39;00m \u001b[38;5;21mmain\u001b[39m():\n",
      "\u001b[1;31mImportError\u001b[0m: cannot import name 'split' from 'model' (C:\\Users\\DELL\\Desktop\\projects\\ai-final-project\\model.py)"
     ]
    }
   ],
   "source": [
    "from model import backtracking, split\n",
    "import gradio as gr\n",
    "\n",
    "def main():\n",
    "    demo = gr.Interface(\n",
    "        fn=backtracking, \n",
    "        inputs=[gr.Textbox(label=\"Set of values:\"), gr.Textbox(label=\"Set of weights:\"), gr.Textbox(label=\"Max weight:\")], \n",
    "        outputs=[gr.Textbox(label=\"Total value of best set:\"), gr.Textbox(label=\"Best set:\")],\n",
    "    )\n",
    "        \n",
    "    demo.launch()\n",
    "if __name__ == \"__main__\":\n",
    "    main()"
   ]
  },
  {
   "cell_type": "code",
   "execution_count": null,
   "metadata": {},
   "outputs": [],
   "source": []
  }
 ],
 "metadata": {
  "kernelspec": {
   "display_name": "Python 3 (ipykernel)",
   "language": "python",
   "name": "python3"
  },
  "language_info": {
   "codemirror_mode": {
    "name": "ipython",
    "version": 3
   },
   "file_extension": ".py",
   "mimetype": "text/x-python",
   "name": "python",
   "nbconvert_exporter": "python",
   "pygments_lexer": "ipython3",
   "version": "3.11.2"
  }
 },
 "nbformat": 4,
 "nbformat_minor": 2
}
