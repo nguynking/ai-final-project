{
 "cells": [
  {
   "cell_type": "code",
   "execution_count": 2,
   "metadata": {},
   "outputs": [
    {
     "name": "stdout",
     "output_type": "stream",
     "text": [
      "Running on local URL:  http://127.0.0.1:7863\n",
      "\n",
      "To create a public link, set `share=True` in `launch()`.\n"
     ]
    },
    {
     "data": {
      "text/html": [
       "<div><iframe src=\"http://127.0.0.1:7863/\" width=\"100%\" height=\"500\" allow=\"autoplay; camera; microphone; clipboard-read; clipboard-write;\" frameborder=\"0\" allowfullscreen></iframe></div>"
      ],
      "text/plain": [
       "<IPython.core.display.HTML object>"
      ]
     },
     "metadata": {},
     "output_type": "display_data"
    }
   ],
   "source": [
    "import gradio as gr\n",
    "\n",
    "def split(txt, seps=(',', ';')):\n",
    "    default_sep = seps[0]\n",
    "\n",
    "    # we skip seps[0] because that's the default separator\n",
    "    for sep in seps[1:]:\n",
    "        txt = txt.replace(sep, default_sep)\n",
    "    num_list = [float(i.strip()) for i in txt.split(default_sep)]\n",
    "    if len(num_list) == 1:\n",
    "        return num_list[0]\n",
    "    else:\n",
    "        return num_list\n",
    "\n",
    "def backtracking(values, weights, max_weight): \n",
    "    \"\"\"Returns the best set of items that maximize the total values within weight constraint.\n",
    "    Each item in the set is represented by either 1 (the item is chosen) or 0 (the item is not chosen).\n",
    "    (Model)\n",
    "\n",
    "    Args:\n",
    "    values (list[float]): List of values\n",
    "    weights (list[float]): List of weights\n",
    "    max_weight (float): The weight constraint\n",
    "\n",
    "    Returns: \n",
    "    max_val (float): The total values of the best set\n",
    "    best_set (list[int]): The best set of items\n",
    "    \"\"\"\n",
    "    values = split(values)\n",
    "    weights = split(weights)\n",
    "    max_weight = split(max_weight)\n",
    "    \n",
    "    total_items = len(values)\n",
    "    max_val = 0\n",
    "    best_set = None\n",
    "    # Initialize all items to be 0 (not in knapsack)\n",
    "    current_option = [0] * total_items\n",
    "    \n",
    "    def backtrack(i, current_value, current_weight):\n",
    "        nonlocal max_val, best_set\n",
    "        if current_weight > max_weight: \n",
    "            return\n",
    "        if i == total_items:\n",
    "            if current_value > max_val:\n",
    "                max_val = current_value\n",
    "                best_set = current_option[:]\n",
    "        else:\n",
    "            # Set the current item to be 1 (in knapsack) and continue to recurse\n",
    "            current_option[i] = 1\n",
    "            backtrack(i + 1, current_value + values[i], current_weight + weights[i])\n",
    "            # Set the current item to be 0 (not in knapsack) and continue to recurse\n",
    "            current_option[i] = 0\n",
    "            backtrack(i + 1, current_value, current_weight)\n",
    "            \n",
    "    backtrack(0, 0, 0)\n",
    "    return max_val, best_set\n",
    "\n",
    "def main():\n",
    "    demo = gr.Interface(\n",
    "        fn=backtracking, \n",
    "        inputs=[gr.Textbox(label=\"Set of values:\"), gr.Textbox(label=\"Set of weights:\"), gr.Textbox(label=\"Max weight:\")], \n",
    "        outputs=[gr.Textbox(label=\"Total value of best set:\"), gr.Textbox(label=\"Best set:\")],\n",
    "    )\n",
    "        \n",
    "    demo.launch()\n",
    "if __name__ == \"__main__\":\n",
    "    main()"
   ]
  },
  {
   "cell_type": "code",
   "execution_count": null,
   "metadata": {},
   "outputs": [],
   "source": []
  }
 ],
 "metadata": {
  "kernelspec": {
   "display_name": "Python 3 (ipykernel)",
   "language": "python",
   "name": "python3"
  },
  "language_info": {
   "codemirror_mode": {
    "name": "ipython",
    "version": 3
   },
   "file_extension": ".py",
   "mimetype": "text/x-python",
   "name": "python",
   "nbconvert_exporter": "python",
   "pygments_lexer": "ipython3",
   "version": "3.11.2"
  }
 },
 "nbformat": 4,
 "nbformat_minor": 2
}
